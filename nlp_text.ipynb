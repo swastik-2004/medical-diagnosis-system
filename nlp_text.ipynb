{
 "cells": [
  {
   "cell_type": "code",
   "execution_count": 1,
   "id": "af152752",
   "metadata": {},
   "outputs": [],
   "source": [
    "import nltk\n",
    "import re\n",
    "import string\n",
    "import pandas as pd\n",
    "import numpy as np\n",
    "import matplotlib.pyplot as plt"
   ]
  },
  {
   "cell_type": "code",
   "execution_count": 44,
   "id": "dce59a00",
   "metadata": {},
   "outputs": [],
   "source": [
    "s2p=pd.read_csv(\"C:/Users/swastik dasgupta/Desktop/medicalproj/data/raw/Symptom2Disease.csv\")\n",
    "hd=pd.read_csv(\"C:/Users/swastik dasgupta/Desktop/medicalproj/data/raw/heart_disease_uci.csv\")"
   ]
  },
  {
   "cell_type": "code",
   "execution_count": 45,
   "id": "c34443b0",
   "metadata": {},
   "outputs": [
    {
     "data": {
      "text/html": [
       "<div>\n",
       "<style scoped>\n",
       "    .dataframe tbody tr th:only-of-type {\n",
       "        vertical-align: middle;\n",
       "    }\n",
       "\n",
       "    .dataframe tbody tr th {\n",
       "        vertical-align: top;\n",
       "    }\n",
       "\n",
       "    .dataframe thead th {\n",
       "        text-align: right;\n",
       "    }\n",
       "</style>\n",
       "<table border=\"1\" class=\"dataframe\">\n",
       "  <thead>\n",
       "    <tr style=\"text-align: right;\">\n",
       "      <th></th>\n",
       "      <th>Unnamed: 0</th>\n",
       "      <th>label</th>\n",
       "      <th>text</th>\n",
       "    </tr>\n",
       "  </thead>\n",
       "  <tbody>\n",
       "    <tr>\n",
       "      <th>0</th>\n",
       "      <td>0</td>\n",
       "      <td>Psoriasis</td>\n",
       "      <td>I have been experiencing a skin rash on my arm...</td>\n",
       "    </tr>\n",
       "    <tr>\n",
       "      <th>1</th>\n",
       "      <td>1</td>\n",
       "      <td>Psoriasis</td>\n",
       "      <td>My skin has been peeling, especially on my kne...</td>\n",
       "    </tr>\n",
       "    <tr>\n",
       "      <th>2</th>\n",
       "      <td>2</td>\n",
       "      <td>Psoriasis</td>\n",
       "      <td>I have been experiencing joint pain in my fing...</td>\n",
       "    </tr>\n",
       "    <tr>\n",
       "      <th>3</th>\n",
       "      <td>3</td>\n",
       "      <td>Psoriasis</td>\n",
       "      <td>There is a silver like dusting on my skin, esp...</td>\n",
       "    </tr>\n",
       "    <tr>\n",
       "      <th>4</th>\n",
       "      <td>4</td>\n",
       "      <td>Psoriasis</td>\n",
       "      <td>My nails have small dents or pits in them, and...</td>\n",
       "    </tr>\n",
       "  </tbody>\n",
       "</table>\n",
       "</div>"
      ],
      "text/plain": [
       "   Unnamed: 0      label                                               text\n",
       "0           0  Psoriasis  I have been experiencing a skin rash on my arm...\n",
       "1           1  Psoriasis  My skin has been peeling, especially on my kne...\n",
       "2           2  Psoriasis  I have been experiencing joint pain in my fing...\n",
       "3           3  Psoriasis  There is a silver like dusting on my skin, esp...\n",
       "4           4  Psoriasis  My nails have small dents or pits in them, and..."
      ]
     },
     "execution_count": 45,
     "metadata": {},
     "output_type": "execute_result"
    }
   ],
   "source": [
    "s2p.head()"
   ]
  },
  {
   "cell_type": "code",
   "execution_count": 46,
   "id": "a19c85a4",
   "metadata": {},
   "outputs": [
    {
     "name": "stdout",
     "output_type": "stream",
     "text": [
      "<class 'pandas.core.frame.DataFrame'>\n",
      "RangeIndex: 1200 entries, 0 to 1199\n",
      "Data columns (total 3 columns):\n",
      " #   Column      Non-Null Count  Dtype \n",
      "---  ------      --------------  ----- \n",
      " 0   Unnamed: 0  1200 non-null   int64 \n",
      " 1   label       1200 non-null   object\n",
      " 2   text        1200 non-null   object\n",
      "dtypes: int64(1), object(2)\n",
      "memory usage: 28.2+ KB\n"
     ]
    }
   ],
   "source": [
    "s2p.info()"
   ]
  },
  {
   "cell_type": "code",
   "execution_count": 47,
   "id": "f4e10c14",
   "metadata": {},
   "outputs": [
    {
     "data": {
      "text/plain": [
       "label\n",
       "Psoriasis                          50\n",
       "Varicose Veins                     50\n",
       "Typhoid                            50\n",
       "Chicken pox                        50\n",
       "Impetigo                           50\n",
       "Dengue                             50\n",
       "Fungal infection                   50\n",
       "Common Cold                        50\n",
       "Pneumonia                          50\n",
       "Dimorphic Hemorrhoids              50\n",
       "Arthritis                          50\n",
       "Acne                               50\n",
       "Bronchial Asthma                   50\n",
       "Hypertension                       50\n",
       "Migraine                           50\n",
       "Cervical spondylosis               50\n",
       "Jaundice                           50\n",
       "Malaria                            50\n",
       "urinary tract infection            50\n",
       "allergy                            50\n",
       "gastroesophageal reflux disease    50\n",
       "drug reaction                      50\n",
       "peptic ulcer disease               50\n",
       "diabetes                           50\n",
       "Name: count, dtype: int64"
      ]
     },
     "execution_count": 47,
     "metadata": {},
     "output_type": "execute_result"
    }
   ],
   "source": [
    "s2p[\"label\"].value_counts()"
   ]
  },
  {
   "cell_type": "code",
   "execution_count": 48,
   "id": "5e96a824",
   "metadata": {},
   "outputs": [],
   "source": [
    "from sklearn.model_selection import train_test_split\n",
    "from sklearn.preprocessing import OneHotEncoder"
   ]
  },
  {
   "cell_type": "code",
   "execution_count": 51,
   "id": "b7ab2a20",
   "metadata": {},
   "outputs": [
    {
     "data": {
      "text/plain": [
       "0       i have been experiencing a skin rash on my arm...\n",
       "1       my skin has been peeling, especially on my kne...\n",
       "2       i have been experiencing joint pain in my fing...\n",
       "3       there is a silver like dusting on my skin, esp...\n",
       "4       my nails have small dents or pits in them, and...\n",
       "                              ...                        \n",
       "1195    i'm shaking and trembling all over. i've lost ...\n",
       "1196    particularly in the crevices of my skin, i hav...\n",
       "1197    i regularly experience these intense urges and...\n",
       "1198    i have trouble breathing, especially outside. ...\n",
       "1199    i constantly sneeze and have a dry cough. my i...\n",
       "Name: text, Length: 1200, dtype: object"
      ]
     },
     "execution_count": 51,
     "metadata": {},
     "output_type": "execute_result"
    }
   ],
   "source": [
    "s2p[\"text\"]=s2p[\"text\"].str.lower()\n",
    "s2p[\"text\"]=s2p[\"text\"].str.replace(\"[^\\w\\s]\",\"\")\n",
    "s2p[\"text\"]=s2p[\"text\"].str.replace(\"\\s+\",\" \")\n",
    "s2p[\"text\"]=s2p[\"text\"].str.replace(r\"\\d+\",\" \",regex=True)\n",
    "s2p[\"text\"]"
   ]
  },
  {
   "cell_type": "code",
   "execution_count": 52,
   "id": "571541a7",
   "metadata": {},
   "outputs": [
    {
     "data": {
      "text/plain": [
       "0       experiencing skin rash arms , legs , torso pas...\n",
       "1       skin peeling , especially knees , elbows , sca...\n",
       "2       experiencing joint pain fingers , wrists , kne...\n",
       "3       silver like dusting skin , especially lower ba...\n",
       "4       nails small dents pits , often feel inflammato...\n",
       "                              ...                        \n",
       "1195    'm shaking trembling . 've lost sense taste sm...\n",
       "1196    particularly crevices skin , skin rashes irrit...\n",
       "1197    regularly experience intense urges want urinat...\n",
       "1198    trouble breathing , especially outside . start...\n",
       "1199    constantly sneeze dry cough . infections n't s...\n",
       "Name: text, Length: 1200, dtype: object"
      ]
     },
     "execution_count": 52,
     "metadata": {},
     "output_type": "execute_result"
    }
   ],
   "source": [
    "from nltk.corpus import stopwords\n",
    "from nltk.tokenize import word_tokenize\n",
    "s2p[\"text\"]=s2p[\"text\"].apply(word_tokenize)\n",
    "stop_words=set(stopwords.words(\"english\"))\n",
    "s2p[\"text\"]=s2p[\"text\"].apply(lambda x: [word for word in x if word not in stop_words])\n",
    "s2p[\"text\"]=s2p[\"text\"].apply(lambda x: \" \".join(x))\n",
    "s2p[\"text\"]"
   ]
  },
  {
   "cell_type": "code",
   "execution_count": 53,
   "id": "c6e2b1bb",
   "metadata": {},
   "outputs": [],
   "source": [
    "from nltk.stem import WordNetLemmatizer\n",
    "lemmatizer=WordNetLemmatizer()\n",
    "s2p[\"text\"]=s2p[\"text\"].apply(lambda x: \" \".join([lemmatizer.lemmatize(word) for word in x.split()]))"
   ]
  },
  {
   "cell_type": "code",
   "execution_count": 54,
   "id": "53c529e9",
   "metadata": {},
   "outputs": [
    {
     "data": {
      "text/plain": [
       "0       experiencing skin rash arm , leg , torso past ...\n",
       "1       skin peeling , especially knee , elbow , scalp...\n",
       "2       experiencing joint pain finger , wrist , knee ...\n",
       "3       silver like dusting skin , especially lower ba...\n",
       "4       nail small dent pit , often feel inflammatory ...\n",
       "                              ...                        \n",
       "1195    'm shaking trembling . 've lost sense taste sm...\n",
       "1196    particularly crevice skin , skin rash irritati...\n",
       "1197    regularly experience intense urge want urinate...\n",
       "1198    trouble breathing , especially outside . start...\n",
       "1199    constantly sneeze dry cough . infection n't se...\n",
       "Name: text, Length: 1200, dtype: object"
      ]
     },
     "execution_count": 54,
     "metadata": {},
     "output_type": "execute_result"
    }
   ],
   "source": [
    "s2p[\"text\"]"
   ]
  },
  {
   "cell_type": "code",
   "execution_count": 69,
   "id": "bfc11de5",
   "metadata": {},
   "outputs": [
    {
     "name": "stdout",
     "output_type": "stream",
     "text": [
      "<Compressed Sparse Row sparse matrix of dtype 'float64'\n",
      "\twith 18226 stored elements and shape (1200, 1355)>\n",
      "  Coords\tValues\n",
      "  (0, 418)\t0.16222031904004106\n",
      "  (0, 1057)\t0.14643512882484233\n",
      "  (0, 931)\t0.16827764705187032\n",
      "  (0, 73)\t0.22194960590767734\n",
      "  (0, 675)\t0.2195975751886655\n",
      "  (0, 1214)\t0.3915553711183681\n",
      "  (0, 851)\t0.2975627979775866\n",
      "  (0, 1316)\t0.3183929247545449\n",
      "  (0, 951)\t0.1954080059096226\n",
      "  (0, 648)\t0.22695846285382387\n",
      "  (0, 261)\t0.30705404473495823\n",
      "  (0, 362)\t0.23743212898507812\n",
      "  (0, 996)\t0.40835625422626043\n",
      "  (0, 852)\t0.2758631632885976\n",
      "  (1, 1057)\t0.1277461782960467\n",
      "  (1, 857)\t0.571222478444561\n",
      "  (1, 394)\t0.2325518807737005\n",
      "  (1, 657)\t0.2856112392222805\n",
      "  (1, 373)\t0.2815332720455337\n",
      "  (1, 995)\t0.306268628886372\n",
      "  (1, 826)\t0.20622783511588277\n",
      "  (1, 9)\t0.22963980867757766\n",
      "  (1, 166)\t0.2482174241988215\n",
      "  (1, 1112)\t0.35623932098350314\n",
      "  (1, 1015)\t0.2547302010433578\n",
      "  :\t:\n",
      "  (1198, 506)\t0.15756556232782287\n",
      "  (1198, 617)\t0.421044722682301\n",
      "  (1198, 1227)\t0.16030737107752346\n",
      "  (1198, 153)\t0.16145563802166402\n",
      "  (1198, 585)\t0.2676086351020312\n",
      "  (1198, 1152)\t0.25538695401177286\n",
      "  (1198, 1272)\t0.27535425478567915\n",
      "  (1198, 1101)\t0.4918141633424301\n",
      "  (1198, 1349)\t0.2676086351020312\n",
      "  (1198, 1218)\t0.2848341271262369\n",
      "  (1198, 836)\t0.2970558082164953\n",
      "  (1199, 362)\t0.2298208572032981\n",
      "  (1199, 524)\t0.17450214177571408\n",
      "  (1199, 617)\t0.28012337435880325\n",
      "  (1199, 563)\t0.3081863234236232\n",
      "  (1199, 11)\t0.2017579081384781\n",
      "  (1199, 1009)\t0.24608316076825026\n",
      "  (1199, 241)\t0.2580281964736887\n",
      "  (1199, 818)\t0.22139606448114274\n",
      "  (1199, 256)\t0.18178015887014967\n",
      "  (1199, 1188)\t0.1844304286613909\n",
      "  (1199, 1281)\t0.32720667323714775\n",
      "  (1199, 1072)\t0.3331625698795243\n",
      "  (1199, 847)\t0.32720667323714775\n",
      "  (1199, 118)\t0.3663894063473103\n",
      "0       Psoriasis\n",
      "1       Psoriasis\n",
      "2       Psoriasis\n",
      "3       Psoriasis\n",
      "4       Psoriasis\n",
      "          ...    \n",
      "1195     diabetes\n",
      "1196     diabetes\n",
      "1197     diabetes\n",
      "1198     diabetes\n",
      "1199     diabetes\n",
      "Name: label, Length: 1200, dtype: object\n"
     ]
    }
   ],
   "source": [
    "##now that text has been preprocessed lets make the model \n",
    "from sklearn.feature_extraction.text import TfidfVectorizer\n",
    "tfidf=TfidfVectorizer()\n",
    "X=tfidf.fit_transform(s2p[\"text\"])\n",
    "y=s2p[\"label\"]\n",
    "print(X)\n",
    "print(y)\n"
   ]
  },
  {
   "cell_type": "code",
   "execution_count": 70,
   "id": "23c16cb0",
   "metadata": {},
   "outputs": [
    {
     "name": "stdout",
     "output_type": "stream",
     "text": [
      "0.9791666666666666\n",
      "                                 precision    recall  f1-score   support\n",
      "\n",
      "                           Acne       1.00      1.00      1.00         7\n",
      "                      Arthritis       1.00      1.00      1.00        10\n",
      "               Bronchial Asthma       1.00      1.00      1.00        11\n",
      "           Cervical spondylosis       1.00      1.00      1.00         7\n",
      "                    Chicken pox       0.92      1.00      0.96        12\n",
      "                    Common Cold       1.00      1.00      1.00        12\n",
      "                         Dengue       1.00      0.92      0.96        12\n",
      "          Dimorphic Hemorrhoids       1.00      1.00      1.00         7\n",
      "               Fungal infection       1.00      1.00      1.00        13\n",
      "                   Hypertension       1.00      1.00      1.00        10\n",
      "                       Impetigo       1.00      1.00      1.00        11\n",
      "                       Jaundice       1.00      1.00      1.00        11\n",
      "                        Malaria       1.00      1.00      1.00        11\n",
      "                       Migraine       1.00      0.90      0.95        10\n",
      "                      Pneumonia       1.00      1.00      1.00        11\n",
      "                      Psoriasis       1.00      0.83      0.91         6\n",
      "                        Typhoid       1.00      1.00      1.00         9\n",
      "                 Varicose Veins       1.00      1.00      1.00        12\n",
      "                        allergy       0.92      1.00      0.96        12\n",
      "                       diabetes       1.00      1.00      1.00         8\n",
      "                  drug reaction       1.00      1.00      1.00         5\n",
      "gastroesophageal reflux disease       0.85      1.00      0.92        11\n",
      "           peptic ulcer disease       0.90      0.82      0.86        11\n",
      "        urinary tract infection       1.00      1.00      1.00        11\n",
      "\n",
      "                       accuracy                           0.98       240\n",
      "                      macro avg       0.98      0.98      0.98       240\n",
      "                   weighted avg       0.98      0.98      0.98       240\n",
      "\n"
     ]
    }
   ],
   "source": [
    "x_train,x_test,y_train,y_test=train_test_split(X,y,test_size=0.2,random_state=42)\n",
    "from sklearn.linear_model import LogisticRegression\n",
    "text_model=LogisticRegression()\n",
    "text_model.fit(x_train,y_train)\n",
    "y_pred=text_model.predict(x_test)\n",
    "from sklearn.metrics import accuracy_score,classification_report\n",
    "print(accuracy_score(y_test,y_pred))\n",
    "print(classification_report(y_test,y_pred))\n"
   ]
  },
  {
   "cell_type": "code",
   "execution_count": 71,
   "id": "5a5837d5",
   "metadata": {},
   "outputs": [
    {
     "name": "stdout",
     "output_type": "stream",
     "text": [
      "Training the Logistic Regression model...\n",
      "Training complete!\n",
      "\n",
      "Model Accuracy: 0.9583\n",
      "\n",
      "Classification Report:\n",
      "                                 precision    recall  f1-score   support\n",
      "\n",
      "                           Acne       1.00      1.00      1.00        10\n",
      "                      Arthritis       1.00      1.00      1.00        10\n",
      "               Bronchial Asthma       1.00      1.00      1.00        10\n",
      "           Cervical spondylosis       1.00      1.00      1.00        10\n",
      "                    Chicken pox       0.90      0.90      0.90        10\n",
      "                    Common Cold       1.00      1.00      1.00        10\n",
      "                         Dengue       0.90      0.90      0.90        10\n",
      "          Dimorphic Hemorrhoids       1.00      1.00      1.00        10\n",
      "               Fungal infection       1.00      1.00      1.00        10\n",
      "                   Hypertension       1.00      1.00      1.00        10\n",
      "                       Impetigo       1.00      1.00      1.00        10\n",
      "                       Jaundice       1.00      1.00      1.00        10\n",
      "                        Malaria       1.00      1.00      1.00        10\n",
      "                       Migraine       1.00      0.90      0.95        10\n",
      "                      Pneumonia       0.83      1.00      0.91        10\n",
      "                      Psoriasis       1.00      1.00      1.00        10\n",
      "                        Typhoid       1.00      1.00      1.00        10\n",
      "                 Varicose Veins       1.00      1.00      1.00        10\n",
      "                        allergy       1.00      1.00      1.00        10\n",
      "                       diabetes       0.82      0.90      0.86        10\n",
      "                  drug reaction       0.86      0.60      0.71        10\n",
      "gastroesophageal reflux disease       0.77      1.00      0.87        10\n",
      "           peptic ulcer disease       1.00      0.80      0.89        10\n",
      "        urinary tract infection       1.00      1.00      1.00        10\n",
      "\n",
      "                       accuracy                           0.96       240\n",
      "                      macro avg       0.96      0.96      0.96       240\n",
      "                   weighted avg       0.96      0.96      0.96       240\n",
      "\n"
     ]
    }
   ],
   "source": [
    "\n",
    "import pandas as pd\n",
    "from sklearn.model_selection import train_test_split\n",
    "from sklearn.feature_extraction.text import TfidfVectorizer\n",
    "from sklearn.linear_model import LogisticRegression\n",
    "from sklearn.metrics import accuracy_score, classification_report\n",
    "\n",
    "# Assume 's2p' is your preprocessed DataFrame\n",
    "# 1. Define your features (X) and target (y) from the DataFrame\n",
    "X = s2p['text']\n",
    "y = s2p['label']\n",
    "\n",
    "# 2. Split the raw text data FIRST\n",
    "# This is the most important step to prevent data leakage.\n",
    "x_train, x_test, y_train, y_test = train_test_split(X, y, test_size=0.2, random_state=42, stratify=y)\n",
    "\n",
    "# 3. Initialize the vectorizer\n",
    "tfidf = TfidfVectorizer()\n",
    "x_train_tfidf = tfidf.fit_transform(x_train)\n",
    "\n",
    "# 5. ONLY transform the test data\n",
    "# We use the already-fitted vectorizer to ensure consistency.\n",
    "x_test_tfidf = tfidf.transform(x_test)\n",
    "\n",
    "# 6. Initialize and train the model\n",
    "print(\"Training the Logistic Regression model...\")\n",
    "text_modelv2 = LogisticRegression(max_iter=1000) # Increased max_iter for convergence\n",
    "text_modelv2.fit(x_train_tfidf, y_train)\n",
    "print(\"Training complete!\")\n",
    "\n",
    "# 7. Make predictions on the transformed test data\n",
    "y_pred = text_modelv2.predict(x_test_tfidf)\n",
    "\n",
    "# 8. Evaluate the model's performance\n",
    "accuracy = accuracy_score(y_test, y_pred)\n",
    "report = classification_report(y_test, y_pred)\n",
    "\n",
    "print(f\"\\nModel Accuracy: {accuracy:.4f}\")\n",
    "print(\"\\nClassification Report:\")\n",
    "print(report)"
   ]
  },
  {
   "cell_type": "code",
   "execution_count": null,
   "id": "c1ae0b76",
   "metadata": {},
   "outputs": [],
   "source": []
  }
 ],
 "metadata": {
  "kernelspec": {
   "display_name": "nltk_env",
   "language": "python",
   "name": "python3"
  },
  "language_info": {
   "codemirror_mode": {
    "name": "ipython",
    "version": 3
   },
   "file_extension": ".py",
   "mimetype": "text/x-python",
   "name": "python",
   "nbconvert_exporter": "python",
   "pygments_lexer": "ipython3",
   "version": "3.10.18"
  }
 },
 "nbformat": 4,
 "nbformat_minor": 5
}
